{
 "cells": [
  {
   "cell_type": "markdown",
   "metadata": {},
   "source": [
    "# Problema das N Rainhas"
   ]
  },
  {
   "cell_type": "code",
   "execution_count": 2,
   "metadata": {},
   "outputs": [
    {
     "name": "stdout",
     "output_type": "stream",
     "text": [
      "♕⬜⬜⬜⬜⬜⬜⬜\n",
      "⬜♕⬜⬜⬜⬜⬜⬜\n",
      "⬜⬜♕⬜⬜⬜⬜⬜\n",
      "⬜⬜⬜♕⬜⬜⬜⬜\n",
      "⬜⬜⬜⬜♕⬜⬜⬜\n",
      "⬜⬜⬜⬜⬜♕⬜⬜\n",
      "⬜⬜⬜⬜⬜⬜♕⬜\n",
      "⬜⬜⬜⬜⬜⬜⬜♕\n",
      "\n"
     ]
    },
    {
     "data": {
      "image/png": "[encoded data removed]",
      "text/plain": [
       "<Figure size 432x288 with 1 Axes>"
      ]
     },
     "metadata": {},
     "output_type": "display_data"
    },
    {
     "data": {
      "image/png": "[encoded data removed]",
      "text/plain": [
       "<Figure size 432x288 with 1 Axes>"
      ]
     },
     "metadata": {},
     "output_type": "display_data"
    }
   ],
   "source": [
    "import numpy as np\n",
    "import matplotlib.pyplot as plt\n",
    "import itertools\n",
    "solucao = np.array([0, 1, 2, 3, 4, 5, 6, 7], dtype=int)\n",
    "\n",
    "#Básico\n",
    "def printar(solucao):\n",
    "    n = len(solucao)\n",
    "    for i in range(n):\n",
    "        for j in range(n):\n",
    "            if solucao[j] == i:\n",
    "                print('\\u2655', end='')\n",
    "            else:\n",
    "                print('\\u2B1C', end='')\n",
    "        print()\n",
    "    print()\n",
    "\n",
    "\n",
    "#Avançado\n",
    "def plotar(solucao):    \n",
    "    n = len(solucao)\n",
    "    dx, dy = 0.015, 0.05 \n",
    "    x = np.arange(-4.0, 4.0, dx) \n",
    "    y = np.arange(-4.0, 4.0, dy) \n",
    "    X, Y = np.meshgrid(x,y) \n",
    "    min_max = np.min(x), np.max(x), np.min(y), np.max(y) \n",
    "    res = np.add.outer(range(n), range(n))%2 \n",
    "    plt.imshow(res, cmap=\"binary_r\")\n",
    "    plt.xticks([])\n",
    "    plt.yticks([])\n",
    "    for i in range(n):\n",
    "        if solucao[i] != -1:\n",
    "            plt.text(i, solucao[i], '\\u2655', color=\"orange\", fontsize=20, ha=\"center\", va=\"center\")\n",
    "    plt.show()\n",
    "\n",
    "printar(solucao)\n",
    "plotar(solucao)\n",
    "plotar([-1]*8)\n"
   ]
  },
  {
   "cell_type": "code",
   "execution_count": 3,
   "metadata": {},
   "outputs": [],
   "source": [
    "def avaliar(solucao):\n",
    "    '''Retorna o número de ataques que a solução possui. Considerando a\n",
    "    apenas as diagonais, não é necessário verificar as linhas e colunas, pois\n",
    "    a solução é garantida de ser uma permutação de 0 a n-1.'''\n",
    "    ataques = 0\n",
    "    n = len(solucao)\n",
    "    for i in range(n):\n",
    "        if solucao[i] < 0:\n",
    "            continue\n",
    "        for j in range(i+1, n):            \n",
    "            if solucao[j] < 0:\n",
    "                continue\n",
    "            if abs(solucao[i] - solucao[j]) == j - i:\n",
    "                ataques += 1\n",
    "    return ataques  "
   ]
  },
  {
   "cell_type": "code",
   "execution_count": 4,
   "metadata": {},
   "outputs": [
    {
     "name": "stdout",
     "output_type": "stream",
     "text": [
      "♕⬜⬜⬜⬜⬜⬜⬜\n",
      "⬜⬜⬜⬜⬜⬜♕⬜\n",
      "⬜⬜⬜⬜♕⬜⬜⬜\n",
      "⬜⬜⬜⬜⬜⬜⬜♕\n",
      "⬜♕⬜⬜⬜⬜⬜⬜\n",
      "⬜⬜⬜♕⬜⬜⬜⬜\n",
      "⬜⬜⬜⬜⬜♕⬜⬜\n",
      "⬜⬜♕⬜⬜⬜⬜⬜\n",
      "\n"
     ]
    }
   ],
   "source": [
    "\n",
    "def forca_bruta(n=8):\n",
    "    melhor_solucao = np.array(range(n), dtype=int)\n",
    "    menor_ataques = avaliar(melhor_solucao)\n",
    "    for solucao in itertools.permutations(range(n)):\n",
    "        ataques = avaliar(solucao)\n",
    "        if ataques < menor_ataques:\n",
    "            menor_ataques = ataques\n",
    "            melhor_solucao = solucao\n",
    "            if ataques == 0:\n",
    "                break\n",
    "    return melhor_solucao\n",
    "solucao = forca_bruta()\n",
    "printar(solucao)"
   ]
  },
  {
   "cell_type": "code",
   "execution_count": 5,
   "metadata": {},
   "outputs": [],
   "source": [
    "def ha_ataque(coluna, solucao):\n",
    "    for i in range(coluna):\n",
    "        if abs(solucao[i] - solucao[coluna]) == coluna - i:\n",
    "            return True\n",
    "    return False\n",
    "\n",
    "def coloca(linha , coluna, solucao, usados):\n",
    "    solucao[coluna] = linha\n",
    "    usados[linha] = True\n",
    "    if not ha_ataque(coluna, solucao):        \n",
    "        if coluna == len(solucao) - 1:\n",
    "            return True\n",
    "        for i in range(len(solucao)):\n",
    "            if not usados[i]:\n",
    "                if coloca(i, coluna+1, solucao, usados):\n",
    "                    return True\n",
    "    usados[linha] = False\n",
    "    return False\n",
    "\n",
    "\n",
    "def forca_bruta_otimizada(n=8):    \n",
    "    solucao = np.full(n, -1, dtype=int)\n",
    "    usados = np.full(n, False, dtype=bool)        \n",
    "    for linha in range(n):\n",
    "        if coloca(linha,0, solucao, usados):\n",
    "            break\n",
    "    return solucao"
   ]
  },
  {
   "cell_type": "code",
   "execution_count": 6,
   "metadata": {},
   "outputs": [
    {
     "name": "stdout",
     "output_type": "stream",
     "text": [
      "♕⬜⬜⬜⬜⬜⬜⬜\n",
      "⬜⬜⬜⬜⬜⬜♕⬜\n",
      "⬜⬜⬜⬜♕⬜⬜⬜\n",
      "⬜⬜⬜⬜⬜⬜⬜♕\n",
      "⬜♕⬜⬜⬜⬜⬜⬜\n",
      "⬜⬜⬜♕⬜⬜⬜⬜\n",
      "⬜⬜⬜⬜⬜♕⬜⬜\n",
      "⬜⬜♕⬜⬜⬜⬜⬜\n",
      "\n"
     ]
    }
   ],
   "source": [
    "sol = forca_bruta_otimizada(8)\n",
    "printar(sol)"
   ]
  },
  {
   "cell_type": "code",
   "execution_count": 7,
   "metadata": {},
   "outputs": [
    {
     "name": "stdout",
     "output_type": "stream",
     "text": [
      "8\n",
      "44.2 ms ± 9.63 ms per loop (mean ± std. dev. of 3 runs, 1 loop each)\n",
      "985 µs ± 36.7 µs per loop (mean ± std. dev. of 3 runs, 1 loop each)\n",
      "\n",
      "9\n",
      "86.7 ms ± 4.25 ms per loop (mean ± std. dev. of 3 runs, 1 loop each)\n",
      "979 µs ± 245 µs per loop (mean ± std. dev. of 3 runs, 1 loop each)\n",
      "\n",
      "10\n",
      "775 ms ± 3.01 ms per loop (mean ± std. dev. of 3 runs, 1 loop each)\n",
      "1.09 ms ± 20.3 µs per loop (mean ± std. dev. of 3 runs, 1 loop each)\n",
      "\n",
      "11\n",
      "7.72 s ± 272 ms per loop (mean ± std. dev. of 3 runs, 1 loop each)\n",
      "618 µs ± 13.2 µs per loop (mean ± std. dev. of 3 runs, 1 loop each)\n",
      "\n"
     ]
    }
   ],
   "source": [
    "for n in range(8, 12):\n",
    "    print(n)\n",
    "    %timeit -n1 -r3 forca_bruta(n)\n",
    "    %timeit -n1 -r3 forca_bruta_otimizada(n)    \n",
    "    print()"
   ]
  },
  {
   "cell_type": "code",
   "execution_count": 8,
   "metadata": {},
   "outputs": [
    {
     "name": "stdout",
     "output_type": "stream",
     "text": [
      "1\n",
      "⬜⬜⬜⬜⬜⬜⬜⬜⬜⬜⬜⬜⬜⬜♕\n",
      "⬜⬜⬜♕⬜⬜⬜⬜⬜⬜⬜⬜⬜⬜⬜\n",
      "⬜⬜⬜⬜⬜♕⬜⬜⬜⬜⬜⬜⬜⬜⬜\n",
      "⬜⬜⬜⬜⬜⬜⬜♕⬜⬜⬜⬜⬜⬜⬜\n",
      "⬜⬜⬜⬜⬜⬜⬜⬜⬜⬜⬜♕⬜⬜⬜\n",
      "⬜⬜⬜⬜⬜⬜♕⬜⬜⬜⬜⬜⬜⬜⬜\n",
      "⬜⬜♕⬜⬜⬜⬜⬜⬜⬜⬜⬜⬜⬜⬜\n",
      "⬜⬜⬜⬜⬜⬜⬜⬜⬜⬜⬜⬜♕⬜⬜\n",
      "⬜⬜⬜⬜⬜⬜⬜⬜♕⬜⬜⬜⬜⬜⬜\n",
      "⬜⬜⬜⬜♕⬜⬜⬜⬜⬜⬜⬜⬜⬜⬜\n",
      "⬜♕⬜⬜⬜⬜⬜⬜⬜⬜⬜⬜⬜⬜⬜\n",
      "⬜⬜⬜⬜⬜⬜⬜⬜⬜♕⬜⬜⬜⬜⬜\n",
      "♕⬜⬜⬜⬜⬜⬜⬜⬜⬜⬜⬜⬜⬜⬜\n",
      "⬜⬜⬜⬜⬜⬜⬜⬜⬜⬜♕⬜⬜⬜⬜\n",
      "⬜⬜⬜⬜⬜⬜⬜⬜⬜⬜⬜⬜⬜♕⬜\n",
      "\n"
     ]
    }
   ],
   "source": [
    "def aleatoria(n=8, max_iter=10000):\n",
    "    solucao = np.array(range(n), dtype=int)\n",
    "    melhor_solucao = np.array(range(n), dtype=int)    \n",
    "    menor_ataques = avaliar(melhor_solucao)\n",
    "    for _ in range(max_iter):\n",
    "        np.random.shuffle(solucao)\n",
    "        ataques = avaliar(solucao)\n",
    "        if ataques < menor_ataques:\n",
    "            menor_ataques = ataques\n",
    "            melhor_solucao[:] = solucao[:]\n",
    "            if ataques == 0:\n",
    "                print('Solução encontrada!')\n",
    "                break            \n",
    "    return melhor_solucao, menor_ataques\n",
    "\n",
    "solucao,limite_inferior = aleatoria(15)\n",
    "print(limite_inferior)\n",
    "printar(solucao)"
   ]
  },
  {
   "cell_type": "code",
   "execution_count": 9,
   "metadata": {},
   "outputs": [
    {
     "name": "stdout",
     "output_type": "stream",
     "text": [
      "8\n",
      "Solução encontrada!\n",
      "37.9 ms ± 0 ns per loop (mean ± std. dev. of 1 run, 1 loop each)\n",
      "\n",
      "9\n",
      "Solução encontrada!\n",
      "122 ms ± 0 ns per loop (mean ± std. dev. of 1 run, 1 loop each)\n",
      "\n",
      "10\n",
      "Solução encontrada!\n",
      "136 ms ± 0 ns per loop (mean ± std. dev. of 1 run, 1 loop each)\n",
      "\n"
     ]
    }
   ],
   "source": [
    "for n in range(8, 11):\n",
    "    print(n)\n",
    "    %timeit -n1 -r1 aleatoria(n)\n",
    "    print()"
   ]
  },
  {
   "cell_type": "code",
   "execution_count": 10,
   "metadata": {},
   "outputs": [
    {
     "name": "stdout",
     "output_type": "stream",
     "text": [
      "4\n",
      "♕⬜⬜⬜⬜⬜⬜⬜\n",
      "⬜⬜⬜♕⬜⬜⬜⬜\n",
      "⬜♕⬜⬜⬜⬜⬜⬜\n",
      "⬜⬜⬜⬜♕⬜⬜⬜\n",
      "⬜⬜♕⬜⬜⬜⬜⬜\n",
      "⬜⬜⬜⬜⬜♕⬜⬜\n",
      "⬜⬜⬜⬜⬜⬜⬜♕\n",
      "⬜⬜⬜⬜⬜⬜♕⬜\n",
      "\n"
     ]
    }
   ],
   "source": [
    "def gulosa(n=8):\n",
    "    solucao = np.full(n,-1, dtype=int)\n",
    "    usadas = np.full(n, False, dtype=bool)\n",
    "    limite_inferior = 0\n",
    "    for coluna in range(n):\n",
    "        melhor_linha = -1\n",
    "        menor_ataques = n\n",
    "        for linha in range(n):\n",
    "            if not usadas[linha]:\n",
    "                solucao[coluna] = linha\n",
    "                av = avaliar(solucao)\n",
    "                if av < menor_ataques:\n",
    "                    menor_ataques = av\n",
    "                    melhor_linha = linha\n",
    "                    if menor_ataques == limite_inferior:\n",
    "                        break\n",
    "        solucao[coluna] = melhor_linha\n",
    "        usadas[melhor_linha] = True\n",
    "        limite_inferior = menor_ataques\n",
    "    return solucao, limite_inferior\n",
    "solucao,limite_inferior = gulosa(8)\n",
    "print(limite_inferior)\n",
    "printar(solucao)"
   ]
  },
  {
   "cell_type": "code",
   "execution_count": 11,
   "metadata": {},
   "outputs": [
    {
     "name": "stdout",
     "output_type": "stream",
     "text": [
      "Solução encontrada!\n",
      "0\n",
      "⬜⬜⬜⬜⬜♕⬜⬜\n",
      "⬜⬜⬜♕⬜⬜⬜⬜\n",
      "⬜♕⬜⬜⬜⬜⬜⬜\n",
      "⬜⬜⬜⬜⬜⬜⬜♕\n",
      "⬜⬜⬜⬜♕⬜⬜⬜\n",
      "⬜⬜⬜⬜⬜⬜♕⬜\n",
      "♕⬜⬜⬜⬜⬜⬜⬜\n",
      "⬜⬜♕⬜⬜⬜⬜⬜\n",
      "\n"
     ]
    }
   ],
   "source": [
    "def gulosa_randomizada(n=8):\n",
    "    solucao = np.full(n,-1, dtype=int)\n",
    "    usadas = np.full(n, False, dtype=bool)\n",
    "    limite_inferior = 0\n",
    "    colunas = np.arange(n,dtype=int)\n",
    "    linhas = np.arange(n,dtype=int)\n",
    "    np.random.shuffle(colunas)\n",
    "    for coluna in colunas:\n",
    "        melhor_linha = -1\n",
    "        menor_ataques = n\n",
    "        np.random.shuffle(linhas)\n",
    "        for linha in linhas:\n",
    "            if not usadas[linha]:\n",
    "                solucao[coluna] = linha\n",
    "                av = avaliar(solucao)\n",
    "                if av < menor_ataques:\n",
    "                    menor_ataques = av\n",
    "                    melhor_linha = linha\n",
    "                    if menor_ataques == limite_inferior:\n",
    "                        break\n",
    "        solucao[coluna] = melhor_linha\n",
    "        usadas[melhor_linha] = True            \n",
    "        limite_inferior = menor_ataques\n",
    "    return solucao, limite_inferior\n",
    "\n",
    "def gulosa_randomizada_repetida(n=8, max_iter=1000):\n",
    "    melhor_solucao = np.full(n,-1, dtype=int)\n",
    "    menor_ataques = n\n",
    "    for _ in range(max_iter):\n",
    "        solucao, ataques = gulosa_randomizada(n)\n",
    "        if ataques < menor_ataques:\n",
    "            menor_ataques = ataques\n",
    "            melhor_solucao[:] = solucao[:]\n",
    "            if menor_ataques == 0:\n",
    "                print('Solução encontrada!')\n",
    "                break\n",
    "    return melhor_solucao, menor_ataques\n",
    "\n",
    "# solucao,ataques = gulosa_randomizada(8)\n",
    "solucao,ataques = gulosa_randomizada_repetida(8)\n",
    "print(ataques)\n",
    "printar(solucao)"
   ]
  },
  {
   "cell_type": "code",
   "execution_count": 12,
   "metadata": {},
   "outputs": [
    {
     "name": "stdout",
     "output_type": "stream",
     "text": [
      "8\n",
      "Solução encontrada!\n",
      "4.21 ms ± 0 ns per loop (mean ± std. dev. of 1 run, 1 loop each)\n",
      "\n",
      "9\n",
      "Solução encontrada!\n",
      "29.4 ms ± 0 ns per loop (mean ± std. dev. of 1 run, 1 loop each)\n",
      "\n",
      "10\n",
      "Solução encontrada!\n",
      "1.94 ms ± 0 ns per loop (mean ± std. dev. of 1 run, 1 loop each)\n",
      "\n"
     ]
    }
   ],
   "source": [
    "for n in range(8, 11):\n",
    "    print(n)\n",
    "    %timeit -n1 -r1 gulosa_randomizada_repetida(n)\n",
    "    print()"
   ]
  },
  {
   "cell_type": "code",
   "execution_count": 17,
   "metadata": {},
   "outputs": [
    {
     "name": "stdout",
     "output_type": "stream",
     "text": [
      "1 \n",
      "0\n"
     ]
    }
   ],
   "source": [
    "def avaliar_ij(solucao, i, j):\n",
    "    ataques = 1 if abs(solucao[i] - solucao[j]) == j-i else 0    \n",
    "    for k in range(len(solucao)):\n",
    "        if k != i and k != j:\n",
    "            if abs(solucao[i] - solucao[k]) == abs(i-k): \n",
    "                ataques += 1\n",
    "            if abs(solucao[j] - solucao[k]) == abs(j-k):\n",
    "                ataques += 1\n",
    "    return ataques\n",
    "\n",
    "def melhorar(solucao, ataques):\n",
    "    n = len(solucao)\n",
    "    for i in range(n):\n",
    "        for j in range(i+1, n):\n",
    "            d0 = avaliar_ij(solucao, i, j)\n",
    "            if d0 == 0:\n",
    "                continue\n",
    "            solucao[i], solucao[j] = solucao[j], solucao[i]\n",
    "            delta = avaliar_ij(solucao, i, j) - d0\n",
    "            if delta < 0:\n",
    "                # assert avaliar(solucao) == ataques + delta, f\"delta incorreto! ({i},{solucao[i]}) ({j},{solucao[j]})\" # sanity check \n",
    "                return True, ataques + delta\n",
    "            solucao[i], solucao[j] = solucao[j], solucao[i]\n",
    "    return False, ataques\n",
    "\n",
    "def hill_climbing(solucao):\n",
    "    ataques = avaliar(solucao)\n",
    "    while True:\n",
    "        melhorou, ataques = melhorar(solucao, ataques)\n",
    "        if not melhorou or ataques == 0:\n",
    "            break\n",
    "        print(ataques, end=' \\r')\n",
    "    print()\n",
    "    return solucao, ataques\n",
    "\n",
    "# solucao, ataques = aleatoria(100,10)\n",
    "# solucao, ataques = gulosa(100)\n",
    "solucao, ataques = gulosa_randomizada(200)\n",
    "solucao, ataques = hill_climbing(solucao)\n",
    "print(ataques)\n",
    "# printar(solucao)\n"
   ]
  },
  {
   "cell_type": "code",
   "execution_count": null,
   "metadata": {},
   "outputs": [],
   "source": []
  }
 ],
 "metadata": {
  "kernelspec": {
   "display_name": "Python 3",
   "language": "python",
   "name": "python3"
  },
  "language_info": {
   "codemirror_mode": {
    "name": "ipython",
    "version": 3
   },
   "file_extension": ".py",
   "mimetype": "text/x-python",
   "name": "python",
   "nbconvert_exporter": "python",
   "pygments_lexer": "ipython3",
   "version": "3.10.12"
  }
 },
 "nbformat": 4,
 "nbformat_minor": 2
}
